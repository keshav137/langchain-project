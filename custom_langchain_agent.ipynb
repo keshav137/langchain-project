{
 "cells": [
  {
   "cell_type": "code",
   "execution_count": 2,
   "id": "b0d62e58",
   "metadata": {},
   "outputs": [],
   "source": [
    "from langchain.embeddings.openai import OpenAIEmbeddings\n",
    "from langchain.vectorstores import Chroma\n",
    "from langchain.text_splitter import CharacterTextSplitter\n",
    "from langchain.llms import OpenAI\n",
    "from langchain.chat_models import ChatOpenAI\n",
    "from langchain.chains import RetrievalQA\n",
    "from langchain.document_loaders import TextLoader\n",
    "from langchain.agents import create_csv_agent\n",
    "from langchain.agents import initialize_agent, Tool\n",
    "from langchain.agents import AgentType\n",
    "from langchain.tools import BaseTool\n",
    "from langchain.llms import OpenAI\n",
    "from langchain import LLMMathChain, SerpAPIWrapper\n",
    "from pathlib import Path\n",
    "import openai\n",
    "import pandas as pd\n",
    "import os"
   ]
  },
  {
   "cell_type": "code",
   "execution_count": 15,
   "id": "530f336d",
   "metadata": {},
   "outputs": [],
   "source": [
    "OPENAI_API_KEY = ''\n",
    "openai.api_key = OPENAI_API_KEY\n",
    "os.environ['OPENAI_API_KEY'] = OPENAI_API_KEY"
   ]
  },
  {
   "cell_type": "code",
   "execution_count": 14,
   "id": "8f37ca18",
   "metadata": {},
   "outputs": [],
   "source": [
    "llm = ChatOpenAI(temperature=0, model='gpt-4')\n",
    "# Helper methods\n",
    "def askChatGpt(prompt):\n",
    "    messages=[{\"role\": \"user\", \"content\": prompt}]\n",
    "    response = openai.ChatCompletion.create(\n",
    "    model=\"gpt-4\",\n",
    "    temperature=0,\n",
    "    messages = messages)\n",
    "    return response.choices[0].message.content\n",
    "\n",
    "def createTextChain(file_path):\n",
    "    # Splitting the text data into chunks and creating OpenAIEmbeddings with it\n",
    "    loader = TextLoader(file_path)\n",
    "    documents = loader.load()\n",
    "    text_splitter = CharacterTextSplitter(chunk_size=1000, chunk_overlap=0)\n",
    "    texts = text_splitter.split_documents(documents)\n",
    "    embeddings = OpenAIEmbeddings()\n",
    "\n",
    "    # Creating a vector store to use as the index\n",
    "    docsearch = Chroma.from_documents(texts, embeddings, collection_name='example')\n",
    "    text_file_chain = RetrievalQA.from_chain_type(llm=llm, chain_type=\"stuff\", retriever=docsearch.as_retriever())\n",
    "    return text_file_chain\n",
    "\n",
    "def createCsvAgent(file_path):\n",
    "    return create_csv_agent(OpenAI(temperature=0), file_path, verbose=True)\n",
    "\n",
    "def generateDescription(file_path, file_type, file_name):\n",
    "    with open(file_path, 'r') as file:\n",
    "        data = file.read()\n",
    "        prompt='Here are the contents of a ' + file_type + ' file, named \"' + file_name +  '\": \\n' \\\n",
    "             + data + \"\\nGive me a description of this file in the following format: 'Useful for when you need to answer questions about (enter description here along with information about column names with some example values). Input should be a fully formed question.'\"\n",
    "        response = askChatGpt(prompt)\n",
    "        return response\n",
    "\n",
    "def convertToCsv(file_path):\n",
    "    return_file_name = file_path.split('.')[0] + '.csv'\n",
    "    text_file = open(file_path, 'r')\n",
    "    data = text_file.read()\n",
    "    prompt = 'Convert this file to a csv: \\n' + data\n",
    "    response = askChatGpt(prompt)\n",
    "    text_file.close()\n",
    "\n",
    "    text_file = open(return_file_name, \"w\")\n",
    "    text_file.write(response)\n",
    "    text_file.close()\n",
    "\n",
    "    return return_file_name\n",
    "\n",
    "\n",
    "def isFileStructured(file_obj):\n",
    "    text_file = open(file_obj['path'], 'r')\n",
    "    data = text_file.read().replace('\\n', '')\n",
    "    prompt = 'Can this file data be converted to a well structured csv format? Answer either Yes or No. \\n' + data\n",
    "    response = askChatGpt(prompt)\n",
    "    if 'yes' in response.lower():\n",
    "        return True\n",
    "    return False\n",
    "\n",
    "\n",
    "def createTool(file_obj):\n",
    "    file_path = file_obj['path']\n",
    "    file_type = 'txt' if 'txt' in file_path else 'csv'\n",
    "\n",
    "    if file_type == 'txt' and file_obj['structured']:\n",
    "        csv_file_path = file_path.replace('txt', 'csv')\n",
    "        csv_file = Path(csv_file_path)\n",
    "        # if corresponding csv file doesnt already exist for this structured txt file, create one\n",
    "        if not csv_file.is_file():\n",
    "            file_path = convertToCsv(file_path)\n",
    "        else:\n",
    "            file_path = csv_file_path\n",
    "        file_type = 'csv'\n",
    "    \n",
    "    if file_type == 'csv':\n",
    "        print('creating csv agent for: ', file_path)\n",
    "        agent = createCsvAgent(file_path)\n",
    "    else:\n",
    "        print('creating text chain for: ', file_path)\n",
    "        agent = createTextChain(file_path)\n",
    "\n",
    "    file_description = generateDescription(file_path, file_type, file_obj['name'])\n",
    "    print(file_description)\n",
    "    print()\n",
    "    tool = Tool(\n",
    "        name = file_obj['name'],\n",
    "        func = agent.run,\n",
    "        description = file_description\n",
    "    )\n",
    "    return tool"
   ]
  },
  {
   "cell_type": "code",
   "execution_count": 9,
   "id": "036aec81",
   "metadata": {},
   "outputs": [],
   "source": [
    "# Enter details for the 2 text files and 2 csv files\n",
    "# structured is set true when the contents of the file are structured and can be converted to a tabular form\n",
    "file_objects = [\n",
    "    {\n",
    "        'path': 'data/Syllabus.csv',\n",
    "        'name': 'Syllabus'\n",
    "    },\n",
    "    {\n",
    "        'path': 'data/Weekly Schedule.csv',\n",
    "        'name': 'Weekly Schedule'\n",
    "    },\n",
    "    {\n",
    "        'path': 'data/Grades.csv',\n",
    "        'name': 'Grades'\n",
    "    },\n",
    "    {\n",
    "        'path': 'data/Professors.csv',\n",
    "        'name': 'Professors'\n",
    "    }\n",
    "]"
   ]
  },
  {
   "cell_type": "code",
   "execution_count": 10,
   "id": "ff51bc82",
   "metadata": {},
   "outputs": [
    {
     "data": {
      "text/plain": [
       "[{'path': 'data/Syllabus.csv', 'name': 'Syllabus'},\n",
       " {'path': 'data/Weekly Schedule.csv', 'name': 'Weekly Schedule'},\n",
       " {'path': 'data/Grades.csv', 'name': 'Grades'},\n",
       " {'path': 'data/Professors.csv', 'name': 'Professors'}]"
      ]
     },
     "execution_count": 10,
     "metadata": {},
     "output_type": "execute_result"
    }
   ],
   "source": [
    "# Checking if the contents of an input text file cns be structured to a csv, if yes, then flagging the corresponding\n",
    "# file objects\n",
    "for file_obj in file_objects:\n",
    "    file_type = 'txt' if 'txt' in file_obj['path'] else 'csv'\n",
    "    if (file_type == 'txt' and isFileStructured(file_obj)):\n",
    "        file_obj['structured'] = True\n",
    "file_objects"
   ]
  },
  {
   "cell_type": "code",
   "execution_count": 6,
   "id": "9b7f88ef",
   "metadata": {
    "scrolled": true
   },
   "outputs": [
    {
     "name": "stdout",
     "output_type": "stream",
     "text": [
      "creating csv agent for:  data/Syllabus.csv\n",
      "Useful for when you need to answer questions about the syllabus of 10th grade subjects, including their descriptions and key topics covered. The file contains two columns: \"Subject\" and \"Description\", with example values like \"Chemistry\" and \"In 10th grade Chemistry, students will explore the fundamental principles of the physical and chemical properties of matter...\". Input should be a fully formed question.\n",
      "\n",
      "creating csv agent for:  data/Weekly Schedule.csv\n",
      "Useful for when you need to answer questions about a student's weekly class schedule, including the day, period, subject, and professor for each class. For example, \"What subject is taught on Monday during period 1 and who is the professor?\" The answer would be Mathematics, taught by David Kim. The column names are Day, Period, Subject, and Professor, with example values like Monday, 1, Mathematics, and David Kim. Input should be a fully formed question.\n",
      "\n",
      "creating csv agent for:  data/Grades.csv\n",
      "Useful for when you need to answer questions about students' grades in various subjects such as Chemistry, Mathematics, Physical Education, Foreign Language, Art, Economics, Physics, and English Language Arts. For example, \"What is the Chemistry grade of Student 1?\" or \"What are the Mathematics and Physics grades of Student 4?\". The file contains information about 10 students with example values like Student 1 having a Chemistry grade of 85 and a Mathematics grade of 92. Input should be a fully formed question.\n",
      "\n",
      "creating csv agent for:  data/Professors.csv\n",
      "Useful for when you need to answer questions about the demographics, qualifications, and experience of professors, including their name (e.g., Jasmine Gomez), age (e.g., 42), gender (e.g., Female), salary (e.g., 72000), education (e.g., Ph.D.), and years of service (e.g., 12). Input should be a fully formed question.\n",
      "\n"
     ]
    }
   ],
   "source": [
    "tools = []\n",
    "\n",
    "for file_obj in file_objects:\n",
    "    tool = createTool(file_obj)\n",
    "    tools.append(tool)"
   ]
  },
  {
   "cell_type": "code",
   "execution_count": 7,
   "id": "ef7a77d2",
   "metadata": {},
   "outputs": [],
   "source": [
    "agent = initialize_agent(tools, llm, agent=AgentType.ZERO_SHOT_REACT_DESCRIPTION, verbose=True)"
   ]
  },
  {
   "cell_type": "code",
   "execution_count": 112,
   "id": "2c70aa2c",
   "metadata": {},
   "outputs": [
    {
     "name": "stdout",
     "output_type": "stream",
     "text": [
      "\n",
      "\n",
      "\u001b[1m> Entering new AgentExecutor chain...\u001b[0m\n",
      "\u001b[32;1m\u001b[1;3mI need to find out the subject taught in 3rd period on Monday and then look up its syllabus.\n",
      "Action: Weekly Schedule\n",
      "Action Input: What subject is taught on Monday during period 3?\u001b[0m\n",
      "\n",
      "\u001b[1m> Entering new AgentExecutor chain...\u001b[0m\n",
      "\u001b[32;1m\u001b[1;3mThought: I need to find the subject for Monday during period 3\n",
      "Action: python_repl_ast\n",
      "Action Input: df[(df['Day'] == 'Monday') & (df['Period'] == 3)]['Subject']\u001b[0m\n",
      "Observation: \u001b[36;1m\u001b[1;3m2    Chemistry\n",
      "Name: Subject, dtype: object\u001b[0m\n",
      "Thought:\u001b[32;1m\u001b[1;3m I now know the final answer\n",
      "Final Answer: Chemistry\u001b[0m\n",
      "\n",
      "\u001b[1m> Finished chain.\u001b[0m\n",
      "\n",
      "Observation: \u001b[33;1m\u001b[1;3mChemistry\u001b[0m\n",
      "Thought:\u001b[32;1m\u001b[1;3mNow that I know the subject is Chemistry, I can look up its syllabus.\n",
      "Action: Syllabus\n",
      "Action Input: What is the syllabus for 10th grade Chemistry?\u001b[0m\n",
      "\n",
      "\u001b[1m> Entering new AgentExecutor chain...\u001b[0m\n",
      "\u001b[32;1m\u001b[1;3mThought: I need to find the description for 10th grade Chemistry\n",
      "Action: python_repl_ast\n",
      "Action Input: df[df['Subject'] == 'Chemistry']['Description'].iloc[0]\u001b[0m\n",
      "Observation: \u001b[36;1m\u001b[1;3mIn 10th grade Chemistry, students will explore the fundamental principles of the physical and chemical properties of matter. They will learn about the periodic table, chemical reactions, and atomic structure. Students will be introduced to laboratory techniques and safety procedures and perform experiments to reinforce theoretical concepts. The course will also focus on real-world applications of chemistry in fields such as medicine, environmental science, and engineering. By the end of the course, students will have a strong foundation in chemistry that will enable them to pursue further study in the field.\u001b[0m\n",
      "Thought:\u001b[32;1m\u001b[1;3m I now know the syllabus for 10th grade Chemistry\n",
      "Final Answer: In 10th grade Chemistry, students will explore the fundamental principles of the physical and chemical properties of matter. They will learn about the periodic table, chemical reactions, and atomic structure. Students will be introduced to laboratory techniques and safety procedures and perform experiments to reinforce theoretical concepts. The course will also focus on real-world applications of chemistry in fields such as medicine, environmental science, and engineering. By the end of the course, students will have a strong foundation in chemistry that will enable them to pursue further study in the field.\u001b[0m\n",
      "\n",
      "\u001b[1m> Finished chain.\u001b[0m\n",
      "\n",
      "Observation: \u001b[36;1m\u001b[1;3mIn 10th grade Chemistry, students will explore the fundamental principles of the physical and chemical properties of matter. They will learn about the periodic table, chemical reactions, and atomic structure. Students will be introduced to laboratory techniques and safety procedures and perform experiments to reinforce theoretical concepts. The course will also focus on real-world applications of chemistry in fields such as medicine, environmental science, and engineering. By the end of the course, students will have a strong foundation in chemistry that will enable them to pursue further study in the field.\u001b[0m\n",
      "Thought:\u001b[32;1m\u001b[1;3mI now know the final answer.\n",
      "Final Answer: In 10th grade Chemistry, students will explore the fundamental principles of the physical and chemical properties of matter. They will learn about the periodic table, chemical reactions, and atomic structure. Students will be introduced to laboratory techniques and safety procedures and perform experiments to reinforce theoretical concepts. The course will also focus on real-world applications of chemistry in fields such as medicine, environmental science, and engineering. By the end of the course, students will have a strong foundation in chemistry that will enable them to pursue further study in the field.\u001b[0m\n",
      "\n",
      "\u001b[1m> Finished chain.\u001b[0m\n"
     ]
    },
    {
     "data": {
      "text/plain": [
       "'In 10th grade Chemistry, students will explore the fundamental principles of the physical and chemical properties of matter. They will learn about the periodic table, chemical reactions, and atomic structure. Students will be introduced to laboratory techniques and safety procedures and perform experiments to reinforce theoretical concepts. The course will also focus on real-world applications of chemistry in fields such as medicine, environmental science, and engineering. By the end of the course, students will have a strong foundation in chemistry that will enable them to pursue further study in the field.'"
      ]
     },
     "execution_count": 112,
     "metadata": {},
     "output_type": "execute_result"
    }
   ],
   "source": [
    "agent.run(\"What is the syllabus for the subject taught in 3rd period on Monday?\")"
   ]
  },
  {
   "cell_type": "code",
   "execution_count": null,
   "id": "b3872779",
   "metadata": {},
   "outputs": [],
   "source": []
  }
 ],
 "metadata": {
  "kernelspec": {
   "display_name": "Python 3 (ipykernel)",
   "language": "python",
   "name": "python3"
  },
  "language_info": {
   "codemirror_mode": {
    "name": "ipython",
    "version": 3
   },
   "file_extension": ".py",
   "mimetype": "text/x-python",
   "name": "python",
   "nbconvert_exporter": "python",
   "pygments_lexer": "ipython3",
   "version": "3.10.10"
  }
 },
 "nbformat": 4,
 "nbformat_minor": 5
}
