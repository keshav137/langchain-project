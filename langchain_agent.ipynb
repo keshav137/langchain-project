{
 "cells": [
  {
   "cell_type": "code",
   "execution_count": 14,
   "id": "9b9793f5",
   "metadata": {},
   "outputs": [],
   "source": [
    "from langchain.embeddings.openai import OpenAIEmbeddings\n",
    "from langchain.vectorstores import Chroma\n",
    "from langchain.text_splitter import CharacterTextSplitter\n",
    "from langchain.llms import OpenAI\n",
    "from langchain.chains import RetrievalQA\n",
    "import os"
   ]
  },
  {
   "cell_type": "code",
   "execution_count": 26,
   "id": "182b2df1",
   "metadata": {},
   "outputs": [],
   "source": [
    "# enter your OPEN API key here\n",
    "# os.environ['OPENAI_API_KEY'] = ''"
   ]
  },
  {
   "cell_type": "code",
   "execution_count": 16,
   "id": "185b6c23",
   "metadata": {},
   "outputs": [],
   "source": [
    "# Enter details for the 2 text files and 2 csv files\n",
    "first_text_file_path = 'pokegames.txt'\n",
    "first_text_file_name = 'Pokemon Games'\n",
    "first_text_file_description = 'useful for when you need to answer questions about pokemon video games. Input should be a fully formed question.'\n",
    "\n",
    "second_text_file_path = 'pokemanga.txt'\n",
    "second_text_file_name = 'Pokemon Adventures Manga'\n",
    "second_text_file_description = 'useful for when you need to answer questions about pokemon games adventures manga. Input should be a fully formed question.'\n",
    "\n",
    "first_csv_file_path = 'pokemon.csv'\n",
    "first_csv_file_name = 'Pokemon Media'\n",
    "first_csv_file_description = 'useful for when you need to answer questions about pokemon stats. Input should be a fully formed question.'\n",
    "\n",
    "second_csv_file_path = 'pokedex.csv'\n",
    "second_csv_file_name = 'Pokemon Media'\n",
    "second_csv_file_description = 'useful for when you need to answer questions about pokemon types and its related stats. Input should be a fully formed question.'"
   ]
  },
  {
   "cell_type": "code",
   "execution_count": 17,
   "id": "32e8626a",
   "metadata": {},
   "outputs": [
    {
     "name": "stderr",
     "output_type": "stream",
     "text": [
      "Created a chunk of size 1034, which is longer than the specified 1000\n",
      "Created a chunk of size 1352, which is longer than the specified 1000\n",
      "Created a chunk of size 1121, which is longer than the specified 1000\n",
      "Created a chunk of size 1881, which is longer than the specified 1000\n",
      "Created a chunk of size 2000, which is longer than the specified 1000\n",
      "Created a chunk of size 1153, which is longer than the specified 1000\n",
      "Created a chunk of size 1964, which is longer than the specified 1000\n",
      "Using embedded DuckDB without persistence: data will be transient\n"
     ]
    }
   ],
   "source": [
    "# Splitting the text data into chunks and creating OpenAIEmbeddings with it\n",
    "from langchain.document_loaders import TextLoader\n",
    "llm = OpenAI(temperature=0)\n",
    "loader = TextLoader(first_text_file_path)\n",
    "documents = loader.load()\n",
    "text_splitter = CharacterTextSplitter(chunk_size=1000, chunk_overlap=0)\n",
    "texts = text_splitter.split_documents(documents)\n",
    "\n",
    "embeddings = OpenAIEmbeddings()\n",
    "\n",
    "# Creating a vector store to use as the index\n",
    "docsearch = Chroma.from_documents(texts, embeddings, collection_name='example')"
   ]
  },
  {
   "cell_type": "code",
   "execution_count": 18,
   "id": "8f75ebfa",
   "metadata": {},
   "outputs": [],
   "source": [
    "# Creating a Retrieval QA chain which will answer questions pertaining to the first file\n",
    "first_text_file_chain = RetrievalQA.from_chain_type(llm=llm, chain_type=\"stuff\", retriever=docsearch.as_retriever())"
   ]
  },
  {
   "cell_type": "code",
   "execution_count": 19,
   "id": "27cef925",
   "metadata": {},
   "outputs": [
    {
     "name": "stderr",
     "output_type": "stream",
     "text": [
      "Created a chunk of size 1023, which is longer than the specified 1000\n",
      "Created a chunk of size 1046, which is longer than the specified 1000\n",
      "Created a chunk of size 1018, which is longer than the specified 1000\n",
      "Created a chunk of size 1181, which is longer than the specified 1000\n",
      "Using embedded DuckDB without persistence: data will be transient\n"
     ]
    }
   ],
   "source": [
    "# Repeating the process for the 2nd text file\n",
    "loader = TextLoader(second_text_file_path)\n",
    "documents = loader.load()\n",
    "text_splitter = CharacterTextSplitter(chunk_size=1000, chunk_overlap=0)\n",
    "texts = text_splitter.split_documents(documents)\n",
    "\n",
    "embeddings = OpenAIEmbeddings()\n",
    "docsearch = Chroma.from_documents(texts, embeddings, collection_name=\"example\")\n",
    "second_text_file_chain = RetrievalQA.from_chain_type(llm=llm, chain_type=\"stuff\", retriever=docsearch.as_retriever())"
   ]
  },
  {
   "cell_type": "code",
   "execution_count": 20,
   "id": "ca51e3f6",
   "metadata": {},
   "outputs": [],
   "source": [
    "# Creating 2 CSV agents which will answer questions pertaining to the input CSVs\n",
    "from langchain.agents import create_csv_agent\n",
    "first_csv_file_agent = create_csv_agent(OpenAI(temperature=0), first_csv_file_path, verbose=True)\n",
    "second_csv_file_agent = create_csv_agent(OpenAI(temperature=0), second_csv_file_path, verbose=True)"
   ]
  },
  {
   "cell_type": "code",
   "execution_count": 21,
   "id": "173cf21d",
   "metadata": {},
   "outputs": [],
   "source": [
    "# Import things that are needed generically\n",
    "from langchain.agents import initialize_agent, Tool\n",
    "from langchain.agents import AgentType\n",
    "from langchain.tools import BaseTool\n",
    "from langchain.llms import OpenAI\n",
    "from langchain import LLMMathChain, SerpAPIWrapper"
   ]
  },
  {
   "cell_type": "code",
   "execution_count": 22,
   "id": "c8a53796",
   "metadata": {},
   "outputs": [],
   "source": [
    "# Setting the tools that will be used as input for initializing the main agent for answering questions\n",
    "tools = [\n",
    "    Tool(\n",
    "        name = first_text_file_name,\n",
    "        func=first_text_file_chain.run,\n",
    "        description=first_text_file_description\n",
    "    ),\n",
    "    Tool(\n",
    "        name = second_text_file_name,\n",
    "        func=second_text_file_chain.run,\n",
    "        description=second_text_file_description\n",
    "    ),\n",
    "    Tool(\n",
    "        name = first_csv_file_name,\n",
    "        func=first_csv_file_agent.run,\n",
    "        description=first_csv_file_description\n",
    "    ),\n",
    "    Tool(\n",
    "        name = second_csv_file_name,\n",
    "        func=second_csv_file_agent.run,\n",
    "        description=second_csv_file_description\n",
    "    )\n",
    "]"
   ]
  },
  {
   "cell_type": "code",
   "execution_count": 23,
   "id": "ad68b45d",
   "metadata": {},
   "outputs": [],
   "source": [
    "agent = initialize_agent(tools, llm, agent=AgentType.ZERO_SHOT_REACT_DESCRIPTION, verbose=True)"
   ]
  },
  {
   "cell_type": "code",
   "execution_count": 24,
   "id": "dd8689a1",
   "metadata": {},
   "outputs": [
    {
     "name": "stdout",
     "output_type": "stream",
     "text": [
      "\n",
      "\n",
      "\u001b[1m> Entering new AgentExecutor chain...\u001b[0m\n",
      "\u001b[32;1m\u001b[1;3m I need to find out what games Pikachu is featured in and what his stats are.\n",
      "Action: Pokemon Games\n",
      "Action Input: What pokemon games feature Pikachu?\u001b[0m\n",
      "Observation: \u001b[36;1m\u001b[1;3m Super Smash Bros. Brawl, PokéPark Wii: Pikachu's Adventure, Super Smash Bros. Melee, and Super Smash Bros. for Nintendo 3DS and Wii U and Super Smash Bros. Ultimate.\u001b[0m\n",
      "Thought:\u001b[32;1m\u001b[1;3m I need to find out Pikachu's stats for attack.\n",
      "Action: Pokemon Media\n",
      "Action Input: What are Pikachu's stats for attack?\u001b[0m\n",
      "\n",
      "\u001b[1m> Entering new AgentExecutor chain...\u001b[0m\n",
      "\u001b[32;1m\u001b[1;3mThought: I need to find Pikachu's stats\n",
      "Action: python_repl_ast\n",
      "Action Input: df[df['name'] == 'Pikachu']['attack']\u001b[0m\n",
      "Observation: \u001b[36;1m\u001b[1;3m32    55.0\n",
      "Name: attack, dtype: float64\u001b[0m\n",
      "Thought:\u001b[32;1m\u001b[1;3m I now know the final answer\n",
      "Final Answer: 55.0\u001b[0m\n",
      "\n",
      "\u001b[1m> Finished chain.\u001b[0m\n",
      "\n",
      "Observation: \u001b[31;1m\u001b[1;3m55.0\u001b[0m\n",
      "Thought:\u001b[32;1m\u001b[1;3m I now know the final answer.\n",
      "Final Answer: Pikachu is featured in Super Smash Bros. Brawl, PokéPark Wii: Pikachu's Adventure, Super Smash Bros. Melee, and Super Smash Bros. for Nintendo 3DS and Wii U and Super Smash Bros. Ultimate and his stats for attack are 55.0.\u001b[0m\n",
      "\n",
      "\u001b[1m> Finished chain.\u001b[0m\n"
     ]
    },
    {
     "data": {
      "text/plain": [
       "\"Pikachu is featured in Super Smash Bros. Brawl, PokéPark Wii: Pikachu's Adventure, Super Smash Bros. Melee, and Super Smash Bros. for Nintendo 3DS and Wii U and Super Smash Bros. Ultimate and his stats for attack are 55.0.\""
      ]
     },
     "execution_count": 24,
     "metadata": {},
     "output_type": "execute_result"
    }
   ],
   "source": [
    "# Test out any prompt with this agent\n",
    "agent.run(\"What are the pokemon games featuring Pikachu and what are his stats for attack?\")"
   ]
  },
  {
   "cell_type": "code",
   "execution_count": 25,
   "id": "ede981cc",
   "metadata": {},
   "outputs": [
    {
     "name": "stdout",
     "output_type": "stream",
     "text": [
      "\n",
      "\n",
      "\u001b[1m> Entering new AgentExecutor chain...\u001b[0m\n",
      "\u001b[32;1m\u001b[1;3m I need to find out which pokemon has the highest attack stats and if it has any games or manga associated with it.\n",
      "Action: Pokemon Media\n",
      "Action Input: What is the pokemon with the highest attack stats?\u001b[0m\n",
      "\n",
      "\u001b[1m> Entering new AgentExecutor chain...\u001b[0m\n",
      "\u001b[32;1m\u001b[1;3mThought: I need to find the pokemon with the highest attack stats\n",
      "Action: python_repl_ast\n",
      "Action Input: df[df['attack'] == df['attack'].max()]['name'].values[0]\u001b[0m\n",
      "Observation: \u001b[36;1m\u001b[1;3mMega Mewtwo X\u001b[0m\n",
      "Thought:\u001b[32;1m\u001b[1;3m I now know the final answer\n",
      "Final Answer: Mega Mewtwo X\u001b[0m\n",
      "\n",
      "\u001b[1m> Finished chain.\u001b[0m\n",
      "\n",
      "Observation: \u001b[31;1m\u001b[1;3mMega Mewtwo X\u001b[0m\n",
      "Thought:\u001b[32;1m\u001b[1;3m I need to find out if Mega Mewtwo X has any games or manga associated with it.\n",
      "Action: Pokemon Games\n",
      "Action Input: Does Mega Mewtwo X have any games associated with it?\u001b[0m\n",
      "Observation: \u001b[36;1m\u001b[1;3m No, Mega Mewtwo X does not have any games associated with it.\u001b[0m\n",
      "Thought:\u001b[32;1m\u001b[1;3m I need to find out if Mega Mewtwo X has any manga associated with it.\n",
      "Action: Pokemon Adventures Manga\n",
      "Action Input: Does Mega Mewtwo X have any manga associated with it?\u001b[0m\n",
      "Observation: \u001b[33;1m\u001b[1;3m No, Mega Mewtwo X does not have any manga associated with it.\u001b[0m\n",
      "Thought:\u001b[32;1m\u001b[1;3m I now know the final answer.\n",
      "Final Answer: Mega Mewtwo X has the highest attack stats, but does not have any games or manga associated with it.\u001b[0m\n",
      "\n",
      "\u001b[1m> Finished chain.\u001b[0m\n"
     ]
    },
    {
     "data": {
      "text/plain": [
       "'Mega Mewtwo X has the highest attack stats, but does not have any games or manga associated with it.'"
      ]
     },
     "execution_count": 25,
     "metadata": {},
     "output_type": "execute_result"
    }
   ],
   "source": [
    "agent.run(\"What is pokemon with the highest stats for attack? Does that pokemon have any games or manga associated with it?\")"
   ]
  }
 ],
 "metadata": {
  "kernelspec": {
   "display_name": "Python 3 (ipykernel)",
   "language": "python",
   "name": "python3"
  },
  "language_info": {
   "codemirror_mode": {
    "name": "ipython",
    "version": 3
   },
   "file_extension": ".py",
   "mimetype": "text/x-python",
   "name": "python",
   "nbconvert_exporter": "python",
   "pygments_lexer": "ipython3",
   "version": "3.10.10"
  }
 },
 "nbformat": 4,
 "nbformat_minor": 5
}
